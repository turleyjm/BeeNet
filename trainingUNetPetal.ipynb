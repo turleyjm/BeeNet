{
 "cells": [
  {
   "cell_type": "code",
   "execution_count": 32,
   "metadata": {},
   "outputs": [],
   "source": [
    "\n",
    "from cgitb import reset\n",
    "import torch\n",
    "import albumentations as A\n",
    "from albumentations.pytorch import ToTensorV2\n",
    "from tqdm import tqdm\n",
    "import torch.nn as nn\n",
    "import torch.optim as optim\n",
    "import torchvision\n",
    "from torch.utils.data import DataLoader\n",
    "import os\n",
    "from PIL import Image\n",
    "from torch.utils.data import Dataset\n",
    "import numpy as np\n",
    "import skimage as sm\n",
    "import skimage.io\n",
    "from matplotlib import pyplot as plt\n",
    "import tifffile\n",
    "import timm\n",
    "from fastai.vision.all import *\n",
    "import cv2\n"
   ]
  },
  {
   "cell_type": "code",
   "execution_count": 34,
   "metadata": {},
   "outputs": [
    {
     "name": "stderr",
     "output_type": "stream",
     "text": [
      "100%|██████████| 27/27 [27:34<00:00, 61.29s/it, loss=0.0714]\n"
     ]
    },
    {
     "name": "stdout",
     "output_type": "stream",
     "text": [
      "=> Saving checkpoint\n"
     ]
    },
    {
     "name": "stderr",
     "output_type": "stream",
     "text": [
      "100%|██████████| 7/7 [02:09<00:00, 18.56s/it]\n"
     ]
    },
    {
     "name": "stdout",
     "output_type": "stream",
     "text": [
      "Accuracy TensorBase(96.7480)%\n",
      "Dice score TensorBase(0.6474)\n"
     ]
    },
    {
     "name": "stderr",
     "output_type": "stream",
     "text": [
      "  0%|          | 0/27 [00:00<?, ?it/s]"
     ]
    }
   ],
   "source": [
    "# Hyperparameters\n",
    "\n",
    "LEARNING_RATE = 1e-4\n",
    "DEVICE = \"cuda\" if torch.cuda.is_available() else \"cpu\"\n",
    "BATCH_SIZE = 64\n",
    "NUM_EPOCHS = 4\n",
    "NUM_WORKERS = 2\n",
    "IMAGE_HEIGHT = 512\n",
    "IMAGE_WIDTH = 512\n",
    "PIN_MEMORY = True\n",
    "LOAD_MODEL = True\n",
    "TRAIN_IMG_DIR = \"dat/training/input/\"\n",
    "TRAIN_MASK_DIR = \"dat/training/mask/\"\n",
    "VAL_IMG_DIR = \"dat/validation/input/\"\n",
    "VAL_MASK_DIR = \"dat/validation/mask/\"\n",
    "\n",
    "\n",
    "\n",
    "def visualize(image):\n",
    "    plt.figure(figsize=(10, 10))\n",
    "    plt.axis('off')\n",
    "    plt.imshow(image)\n",
    "    plt.show()\n",
    "\n",
    "\n",
    "def plot_examples(images):\n",
    "    fig = plt.figure(figsize=(15, 15))\n",
    "    columns = 4\n",
    "    rows = 5\n",
    "\n",
    "    for i in range(1, len(images)):\n",
    "        img = images[i-1]\n",
    "        fig.add_subplot(rows, columns, i)\n",
    "        plt.imshow(img)\n",
    "    plt.show()\n",
    "\n",
    "\n",
    "# dataset\n",
    "\n",
    "\n",
    "class CarvanaDataset(Dataset):\n",
    "    def __init__(self, image_dir, mask_dir, transform=None):\n",
    "        self.image_dir = image_dir\n",
    "        self.mask_dir = mask_dir\n",
    "        self.transform = transform\n",
    "        self.images = os.listdir(image_dir)\n",
    "\n",
    "    def __len__(self):\n",
    "        return len(self.images)\n",
    "\n",
    "    def __getitem__(self, index):\n",
    "        img_path = os.path.join(self.image_dir, self.images[index])\n",
    "        mask_path = os.path.join(\n",
    "            self.mask_dir, self.images[index].replace(\"field\", \"petal\"))\n",
    "        image = sm.io.imread(img_path).astype(np.float32)\n",
    "        mask = np.array(Image.open(mask_path), dtype=np.float32)\n",
    "        mask0 = mask\n",
    "        mask[mask == 255] = 1\n",
    "        image = np.transpose(image, (2, 0, 1))\n",
    "        images = torch.tensor(image/256).float()\n",
    "\n",
    "        if self.transform is not None:\n",
    "            transformed = self.transform(image=image[0], image0=image[1], image1=image[2], mask=mask)\n",
    "            images[0] = transformed[\"image\"]\n",
    "            images[1] = transformed[\"image0\"]\n",
    "            images[2] = transformed[\"image1\"]\n",
    "\n",
    "            mask = transformed[\"mask\"]\n",
    "\n",
    "            # save_transform(image, mask0, transformed)\n",
    "\n",
    "        return images, mask\n",
    "\n",
    "\n",
    "def save_transform(image, mask0, transformed):\n",
    "\n",
    "    result = np.zeros([3, 250, 250])\n",
    "    result[:, 0:120, 0:120] = image\n",
    "    result[0, 0:120, 130:] = np.array(transformed[\"image\"])*255\n",
    "    result[1, 0:120, 130:] = np.array(transformed[\"image0\"])*255\n",
    "    result[2, 0:120, 130:] = np.array(transformed[\"image1\"])*255\n",
    "\n",
    "    result[:, 130:, 0:120] = mask0*255\n",
    "    result[:, 130:, 130:] = np.array(transformed[\"mask\"])*255\n",
    "\n",
    "    result = np.asarray(result, \"uint8\")\n",
    "    tifffile.imwrite(f\"transformResults/transform.tif\", result)\n",
    "\n",
    "\n",
    "# util\n",
    "\n",
    "def save_checkpoint(state, filename=\"models/UNetPetal.pth.tar\"):\n",
    "    print(\"=> Saving checkpoint\")\n",
    "    torch.save(state, filename)\n",
    "\n",
    "\n",
    "def load_checkpoint(checkpoint, model):\n",
    "    print(\"=> Loading checkpoint\")\n",
    "    model.load_state_dict(checkpoint[\"state_dict\"])\n",
    "\n",
    "\n",
    "def get_loaders(\n",
    "    train_dir,\n",
    "    train_maskdir,\n",
    "    val_dir,\n",
    "    val_maskdir,\n",
    "    batch_size,\n",
    "    train_transform,\n",
    "    val_transform,\n",
    "    num_workers=4,\n",
    "    pin_memory=True\n",
    "):\n",
    "    train_ds = CarvanaDataset(\n",
    "        image_dir=train_dir,\n",
    "        mask_dir=train_maskdir,\n",
    "        transform=train_transform,\n",
    "    )\n",
    "\n",
    "    train_loader = DataLoader(\n",
    "        train_ds,\n",
    "        batch_size=batch_size,\n",
    "        num_workers=num_workers,\n",
    "        pin_memory=pin_memory,\n",
    "        shuffle=True,\n",
    "    )\n",
    "\n",
    "    val_ds = CarvanaDataset(\n",
    "        image_dir=val_dir,\n",
    "        mask_dir=val_maskdir,\n",
    "        transform=val_transform,\n",
    "    )\n",
    "\n",
    "    val_loader = DataLoader(\n",
    "        val_ds,\n",
    "        batch_size=batch_size,\n",
    "        num_workers=num_workers,\n",
    "        pin_memory=pin_memory,\n",
    "        shuffle=False\n",
    "    )\n",
    "\n",
    "    return train_loader, val_loader\n",
    "\n",
    "\n",
    "def check_accuracy(loader, model, device=\"cuda\"):\n",
    "    num_correct = 0\n",
    "    num_pixels = 0\n",
    "    dice_score = 0\n",
    "    model.eval()\n",
    "    loop = tqdm(loader)\n",
    "\n",
    "    with torch.no_grad():\n",
    "        for batch_idx, (x, y) in enumerate(loop):\n",
    "            x = x.to(device)\n",
    "            y = y.to(device).unsqueeze(1)\n",
    "            preds = torch.sigmoid(model(x))\n",
    "            preds = (preds > 0.5).float()\n",
    "            num_correct += (preds == y).sum()\n",
    "            num_pixels += torch.numel(preds)\n",
    "            dice_score += (2 * (preds * y).sum()) / (\n",
    "                (preds + y).sum() + 1e-8\n",
    "            )\n",
    "\n",
    "    print(\n",
    "        f\"Accuracy {num_correct/num_pixels*100}%\"\n",
    "    )\n",
    "    print(f\"Dice score {dice_score/len(loader)}\")\n",
    "    model.train()\n",
    "\n",
    "\n",
    "def save_predictions_as_imgs(loader, model, folder=\"saved_images/\", device=\"cuda\"):\n",
    "    model.eval()\n",
    "    with torch.no_grad():\n",
    "        for idx, (x, y) in enumerate(loader):\n",
    "            x = x.to(device)\n",
    "            preds = torch.sigmoid(model(x))\n",
    "            preds = (preds > 0.5).float()\n",
    "            for i in range(preds.shape[0]):\n",
    "                torchvision.utils.save_image(\n",
    "                    preds[i], f\"{folder}pred_{i}.png\"\n",
    "                )\n",
    "                torchvision.utils.save_image(\n",
    "                    y.unsqueeze(1)[i], f\"{folder}img_{i}.png\")\n",
    "\n",
    "            break\n",
    "\n",
    "    model.train()\n",
    "\n",
    "# train\n",
    "\n",
    "\n",
    "def train_fn(loader, model, optimizer, loss_fn, scaler):\n",
    "    loop = tqdm(loader)\n",
    "\n",
    "    for batch_idx, (data, targets) in enumerate(loop):\n",
    "        data = data.to(device=DEVICE)\n",
    "        targets = torch.unsqueeze(targets, 1).to(device=DEVICE)\n",
    "\n",
    "        # forward\n",
    "        with torch.cuda.amp.autocast():\n",
    "            predictions = model(data)\n",
    "            loss = loss_fn(predictions, targets)\n",
    "\n",
    "        # backward\n",
    "        optimizer.zero_grad()\n",
    "        scaler.scale(loss).backward()\n",
    "        scaler.step(optimizer)\n",
    "        scaler.update()\n",
    "\n",
    "        # update tqdm loop\n",
    "        loop.set_postfix(loss=loss.item())\n",
    "\n",
    "\n",
    "def main():\n",
    "    target3 = {'image0': 'image', 'image1': 'image', 'image2': 'image', 'mask': 'mask'}\n",
    "    train_transform = A.Compose(\n",
    "        [\n",
    "            A.Rotate(limit=45, p=1.0, border_mode=cv2.BORDER_CONSTANT, value=0),\n",
    "            A.HorizontalFlip(p=0.5),\n",
    "            A.VerticalFlip(p=0.5),\n",
    "            A.GaussianBlur(blur_limit=(3, 5), p=0.3),\n",
    "            A.Normalize(\n",
    "                mean=0,\n",
    "                std=1,\n",
    "                max_pixel_value=255.0,\n",
    "            ),\n",
    "            ToTensorV2(),\n",
    "        ],\n",
    "        additional_targets=target3,\n",
    "    )\n",
    "    val_transform = A.Compose(\n",
    "        [\n",
    "            A.Normalize(\n",
    "                mean=0,\n",
    "                std=1,\n",
    "                max_pixel_value=255.0,\n",
    "            ),\n",
    "            ToTensorV2(),\n",
    "        ],\n",
    "        additional_targets=target3,\n",
    "    )\n",
    "\n",
    "    resnet = timm.create_model(\"resnet34\", pretrained=True)\n",
    "\n",
    "    m = resnet\n",
    "    m = nn.Sequential(*list(m.children())[:-2])\n",
    "    model = DynamicUnet(m, 1, (512, 512), norm_type=None).to(DEVICE)\n",
    "#     x = cast(torch.randn(2, 3, 512, 512), TensorImage)\n",
    "#     y = model(x)\n",
    "\n",
    "    loss_fn = nn.BCEWithLogitsLoss()  # if out_channels > 1 => cross entropy loss\n",
    "    optimizer = optim.Adam(model.parameters(), lr=LEARNING_RATE, betas=(\n",
    "        0.9, 0.999), eps=1e-08)\n",
    "\n",
    "    train_loader, val_loader = get_loaders(\n",
    "        TRAIN_IMG_DIR,\n",
    "        TRAIN_MASK_DIR,\n",
    "        VAL_IMG_DIR,\n",
    "        VAL_MASK_DIR,\n",
    "        BATCH_SIZE,\n",
    "        train_transform,  # train_transform\n",
    "        val_transform,  # val_transform\n",
    "        NUM_WORKERS,\n",
    "        PIN_MEMORY,\n",
    "    )\n",
    "\n",
    "    if LOAD_MODEL:\n",
    "        load_checkpoint(torch.load(\"models/UNetPetal.pth.tar\"), model)\n",
    "        save_predictions_as_imgs(\n",
    "            val_loader, model, folder=\"saved_images/\", device=DEVICE)\n",
    "        check_accuracy(val_loader, model, device=DEVICE)\n",
    "\n",
    "    scaler = torch.cuda.amp.GradScaler()\n",
    "\n",
    "    for epoch in range(NUM_EPOCHS):\n",
    "        train_fn(train_loader, model, optimizer, loss_fn, scaler)\n",
    "\n",
    "        # save model\n",
    "        checkpoint = {\n",
    "            \"state_dict\": model.state_dict(),\n",
    "            \"optimizer\": optimizer.state_dict(),\n",
    "        }\n",
    "        save_checkpoint(checkpoint)\n",
    "\n",
    "        # check accuracy\n",
    "        check_accuracy(val_loader, model, device=DEVICE)\n",
    "        save_predictions_as_imgs(\n",
    "            val_loader, model, folder=\"saved_images/\", device=DEVICE)\n",
    "\n",
    "LEARNING_RATE = 5e-5\n",
    "main()\n"
   ]
  },
  {
   "cell_type": "code",
   "execution_count": 27,
   "metadata": {},
   "outputs": [
    {
     "name": "stderr",
     "output_type": "stream",
     "text": [
      "  0%|          | 0/27 [00:00<?, ?it/s]\n"
     ]
    },
    {
     "ename": "ValueError",
     "evalue": "could not broadcast input array from shape (120,120,3) into shape (3,120,120)",
     "output_type": "error",
     "traceback": [
      "\u001b[0;31m---------------------------------------------------------------------------\u001b[0m",
      "\u001b[0;31mValueError\u001b[0m                                Traceback (most recent call last)",
      "Cell \u001b[0;32mIn[27], line 2\u001b[0m\n\u001b[1;32m      1\u001b[0m LEARNING_RATE \u001b[39m=\u001b[39m \u001b[39m5e-5\u001b[39m\n\u001b[0;32m----> 2\u001b[0m main()\n",
      "Cell \u001b[0;32mIn[23], line 274\u001b[0m, in \u001b[0;36mmain\u001b[0;34m()\u001b[0m\n\u001b[1;32m    271\u001b[0m scaler \u001b[39m=\u001b[39m torch\u001b[39m.\u001b[39mcuda\u001b[39m.\u001b[39mamp\u001b[39m.\u001b[39mGradScaler()\n\u001b[1;32m    273\u001b[0m \u001b[39mfor\u001b[39;00m epoch \u001b[39min\u001b[39;00m \u001b[39mrange\u001b[39m(NUM_EPOCHS):\n\u001b[0;32m--> 274\u001b[0m     train_fn(train_loader, model, optimizer, loss_fn, scaler)\n\u001b[1;32m    276\u001b[0m     \u001b[39m# save model\u001b[39;00m\n\u001b[1;32m    277\u001b[0m     checkpoint \u001b[39m=\u001b[39m {\n\u001b[1;32m    278\u001b[0m         \u001b[39m\"\u001b[39m\u001b[39mstate_dict\u001b[39m\u001b[39m\"\u001b[39m: model\u001b[39m.\u001b[39mstate_dict(),\n\u001b[1;32m    279\u001b[0m         \u001b[39m\"\u001b[39m\u001b[39moptimizer\u001b[39m\u001b[39m\"\u001b[39m: optimizer\u001b[39m.\u001b[39mstate_dict(),\n\u001b[1;32m    280\u001b[0m     }\n",
      "Cell \u001b[0;32mIn[23], line 193\u001b[0m, in \u001b[0;36mtrain_fn\u001b[0;34m(loader, model, optimizer, loss_fn, scaler)\u001b[0m\n\u001b[1;32m    190\u001b[0m \u001b[39mdef\u001b[39;00m \u001b[39mtrain_fn\u001b[39m(loader, model, optimizer, loss_fn, scaler):\n\u001b[1;32m    191\u001b[0m     loop \u001b[39m=\u001b[39m tqdm(loader)\n\u001b[0;32m--> 193\u001b[0m     \u001b[39mfor\u001b[39;00m batch_idx, (data, targets) \u001b[39min\u001b[39;00m \u001b[39menumerate\u001b[39m(loop):\n\u001b[1;32m    194\u001b[0m         data \u001b[39m=\u001b[39m data\u001b[39m.\u001b[39mto(device\u001b[39m=\u001b[39mDEVICE)\n\u001b[1;32m    195\u001b[0m         targets \u001b[39m=\u001b[39m torch\u001b[39m.\u001b[39munsqueeze(targets, \u001b[39m1\u001b[39m)\u001b[39m.\u001b[39mto(device\u001b[39m=\u001b[39mDEVICE)\n",
      "File \u001b[0;32m~/Documents/Coding/python/electroreception/venv/lib/python3.8/site-packages/tqdm/std.py:1182\u001b[0m, in \u001b[0;36mtqdm.__iter__\u001b[0;34m(self)\u001b[0m\n\u001b[1;32m   1179\u001b[0m time \u001b[39m=\u001b[39m \u001b[39mself\u001b[39m\u001b[39m.\u001b[39m_time\n\u001b[1;32m   1181\u001b[0m \u001b[39mtry\u001b[39;00m:\n\u001b[0;32m-> 1182\u001b[0m     \u001b[39mfor\u001b[39;00m obj \u001b[39min\u001b[39;00m iterable:\n\u001b[1;32m   1183\u001b[0m         \u001b[39myield\u001b[39;00m obj\n\u001b[1;32m   1184\u001b[0m         \u001b[39m# Update and possibly print the progressbar.\u001b[39;00m\n\u001b[1;32m   1185\u001b[0m         \u001b[39m# Note: does not call self.update(1) for speed optimisation.\u001b[39;00m\n",
      "File \u001b[0;32m~/Documents/Coding/python/electroreception/venv/lib/python3.8/site-packages/fastai/data/load.py:127\u001b[0m, in \u001b[0;36mDataLoader.__iter__\u001b[0;34m(self)\u001b[0m\n\u001b[1;32m    125\u001b[0m \u001b[39mself\u001b[39m\u001b[39m.\u001b[39mbefore_iter()\n\u001b[1;32m    126\u001b[0m \u001b[39mself\u001b[39m\u001b[39m.\u001b[39m__idxs\u001b[39m=\u001b[39m\u001b[39mself\u001b[39m\u001b[39m.\u001b[39mget_idxs() \u001b[39m# called in context of main process (not workers/subprocesses)\u001b[39;00m\n\u001b[0;32m--> 127\u001b[0m \u001b[39mfor\u001b[39;00m b \u001b[39min\u001b[39;00m _loaders[\u001b[39mself\u001b[39m\u001b[39m.\u001b[39mfake_l\u001b[39m.\u001b[39mnum_workers\u001b[39m==\u001b[39m\u001b[39m0\u001b[39m](\u001b[39mself\u001b[39m\u001b[39m.\u001b[39mfake_l):\n\u001b[1;32m    128\u001b[0m     \u001b[39m# pin_memory causes tuples to be converted to lists, so convert them back to tuples\u001b[39;00m\n\u001b[1;32m    129\u001b[0m     \u001b[39mif\u001b[39;00m \u001b[39mself\u001b[39m\u001b[39m.\u001b[39mpin_memory \u001b[39mand\u001b[39;00m \u001b[39mtype\u001b[39m(b) \u001b[39m==\u001b[39m \u001b[39mlist\u001b[39m: b \u001b[39m=\u001b[39m \u001b[39mtuple\u001b[39m(b)\n\u001b[1;32m    130\u001b[0m     \u001b[39mif\u001b[39;00m \u001b[39mself\u001b[39m\u001b[39m.\u001b[39mdevice \u001b[39mis\u001b[39;00m \u001b[39mnot\u001b[39;00m \u001b[39mNone\u001b[39;00m: b \u001b[39m=\u001b[39m to_device(b, \u001b[39mself\u001b[39m\u001b[39m.\u001b[39mdevice)\n",
      "File \u001b[0;32m~/Documents/Coding/python/electroreception/venv/lib/python3.8/site-packages/torch/utils/data/dataloader.py:630\u001b[0m, in \u001b[0;36m_BaseDataLoaderIter.__next__\u001b[0;34m(self)\u001b[0m\n\u001b[1;32m    627\u001b[0m \u001b[39mif\u001b[39;00m \u001b[39mself\u001b[39m\u001b[39m.\u001b[39m_sampler_iter \u001b[39mis\u001b[39;00m \u001b[39mNone\u001b[39;00m:\n\u001b[1;32m    628\u001b[0m     \u001b[39m# TODO(https://github.com/pytorch/pytorch/issues/76750)\u001b[39;00m\n\u001b[1;32m    629\u001b[0m     \u001b[39mself\u001b[39m\u001b[39m.\u001b[39m_reset()  \u001b[39m# type: ignore[call-arg]\u001b[39;00m\n\u001b[0;32m--> 630\u001b[0m data \u001b[39m=\u001b[39m \u001b[39mself\u001b[39;49m\u001b[39m.\u001b[39;49m_next_data()\n\u001b[1;32m    631\u001b[0m \u001b[39mself\u001b[39m\u001b[39m.\u001b[39m_num_yielded \u001b[39m+\u001b[39m\u001b[39m=\u001b[39m \u001b[39m1\u001b[39m\n\u001b[1;32m    632\u001b[0m \u001b[39mif\u001b[39;00m \u001b[39mself\u001b[39m\u001b[39m.\u001b[39m_dataset_kind \u001b[39m==\u001b[39m _DatasetKind\u001b[39m.\u001b[39mIterable \u001b[39mand\u001b[39;00m \\\n\u001b[1;32m    633\u001b[0m         \u001b[39mself\u001b[39m\u001b[39m.\u001b[39m_IterableDataset_len_called \u001b[39mis\u001b[39;00m \u001b[39mnot\u001b[39;00m \u001b[39mNone\u001b[39;00m \u001b[39mand\u001b[39;00m \\\n\u001b[1;32m    634\u001b[0m         \u001b[39mself\u001b[39m\u001b[39m.\u001b[39m_num_yielded \u001b[39m>\u001b[39m \u001b[39mself\u001b[39m\u001b[39m.\u001b[39m_IterableDataset_len_called:\n",
      "File \u001b[0;32m~/Documents/Coding/python/electroreception/venv/lib/python3.8/site-packages/torch/utils/data/dataloader.py:674\u001b[0m, in \u001b[0;36m_SingleProcessDataLoaderIter._next_data\u001b[0;34m(self)\u001b[0m\n\u001b[1;32m    672\u001b[0m \u001b[39mdef\u001b[39;00m \u001b[39m_next_data\u001b[39m(\u001b[39mself\u001b[39m):\n\u001b[1;32m    673\u001b[0m     index \u001b[39m=\u001b[39m \u001b[39mself\u001b[39m\u001b[39m.\u001b[39m_next_index()  \u001b[39m# may raise StopIteration\u001b[39;00m\n\u001b[0;32m--> 674\u001b[0m     data \u001b[39m=\u001b[39m \u001b[39mself\u001b[39;49m\u001b[39m.\u001b[39;49m_dataset_fetcher\u001b[39m.\u001b[39;49mfetch(index)  \u001b[39m# may raise StopIteration\u001b[39;00m\n\u001b[1;32m    675\u001b[0m     \u001b[39mif\u001b[39;00m \u001b[39mself\u001b[39m\u001b[39m.\u001b[39m_pin_memory:\n\u001b[1;32m    676\u001b[0m         data \u001b[39m=\u001b[39m _utils\u001b[39m.\u001b[39mpin_memory\u001b[39m.\u001b[39mpin_memory(data, \u001b[39mself\u001b[39m\u001b[39m.\u001b[39m_pin_memory_device)\n",
      "File \u001b[0;32m~/Documents/Coding/python/electroreception/venv/lib/python3.8/site-packages/torch/utils/data/_utils/fetch.py:41\u001b[0m, in \u001b[0;36m_IterableDatasetFetcher.fetch\u001b[0;34m(self, possibly_batched_index)\u001b[0m\n\u001b[1;32m     39\u001b[0m         \u001b[39mraise\u001b[39;00m \u001b[39mStopIteration\u001b[39;00m\n\u001b[1;32m     40\u001b[0m \u001b[39melse\u001b[39;00m:\n\u001b[0;32m---> 41\u001b[0m     data \u001b[39m=\u001b[39m \u001b[39mnext\u001b[39;49m(\u001b[39mself\u001b[39;49m\u001b[39m.\u001b[39;49mdataset_iter)\n\u001b[1;32m     42\u001b[0m \u001b[39mreturn\u001b[39;00m \u001b[39mself\u001b[39m\u001b[39m.\u001b[39mcollate_fn(data)\n",
      "File \u001b[0;32m~/Documents/Coding/python/electroreception/venv/lib/python3.8/site-packages/fastai/data/load.py:138\u001b[0m, in \u001b[0;36mDataLoader.create_batches\u001b[0;34m(self, samps)\u001b[0m\n\u001b[1;32m    136\u001b[0m \u001b[39mif\u001b[39;00m \u001b[39mself\u001b[39m\u001b[39m.\u001b[39mdataset \u001b[39mis\u001b[39;00m \u001b[39mnot\u001b[39;00m \u001b[39mNone\u001b[39;00m: \u001b[39mself\u001b[39m\u001b[39m.\u001b[39mit \u001b[39m=\u001b[39m \u001b[39miter\u001b[39m(\u001b[39mself\u001b[39m\u001b[39m.\u001b[39mdataset)\n\u001b[1;32m    137\u001b[0m res \u001b[39m=\u001b[39m \u001b[39mfilter\u001b[39m(\u001b[39mlambda\u001b[39;00m o:o \u001b[39mis\u001b[39;00m \u001b[39mnot\u001b[39;00m \u001b[39mNone\u001b[39;00m, \u001b[39mmap\u001b[39m(\u001b[39mself\u001b[39m\u001b[39m.\u001b[39mdo_item, samps))\n\u001b[0;32m--> 138\u001b[0m \u001b[39myield from\u001b[39;00m \u001b[39mmap\u001b[39m(\u001b[39mself\u001b[39m\u001b[39m.\u001b[39mdo_batch, \u001b[39mself\u001b[39m\u001b[39m.\u001b[39mchunkify(res))\n",
      "File \u001b[0;32m~/Documents/Coding/python/electroreception/venv/lib/python3.8/site-packages/fastcore/basics.py:230\u001b[0m, in \u001b[0;36mchunked\u001b[0;34m(it, chunk_sz, drop_last, n_chunks)\u001b[0m\n\u001b[1;32m    228\u001b[0m \u001b[39mif\u001b[39;00m \u001b[39mnot\u001b[39;00m \u001b[39misinstance\u001b[39m(it, Iterator): it \u001b[39m=\u001b[39m \u001b[39miter\u001b[39m(it)\n\u001b[1;32m    229\u001b[0m \u001b[39mwhile\u001b[39;00m \u001b[39mTrue\u001b[39;00m:\n\u001b[0;32m--> 230\u001b[0m     res \u001b[39m=\u001b[39m \u001b[39mlist\u001b[39;49m(itertools\u001b[39m.\u001b[39;49mislice(it, chunk_sz))\n\u001b[1;32m    231\u001b[0m     \u001b[39mif\u001b[39;00m res \u001b[39mand\u001b[39;00m (\u001b[39mlen\u001b[39m(res)\u001b[39m==\u001b[39mchunk_sz \u001b[39mor\u001b[39;00m \u001b[39mnot\u001b[39;00m drop_last): \u001b[39myield\u001b[39;00m res\n\u001b[1;32m    232\u001b[0m     \u001b[39mif\u001b[39;00m \u001b[39mlen\u001b[39m(res)\u001b[39m<\u001b[39mchunk_sz: \u001b[39mreturn\u001b[39;00m\n",
      "File \u001b[0;32m~/Documents/Coding/python/electroreception/venv/lib/python3.8/site-packages/fastai/data/load.py:153\u001b[0m, in \u001b[0;36mDataLoader.do_item\u001b[0;34m(self, s)\u001b[0m\n\u001b[1;32m    152\u001b[0m \u001b[39mdef\u001b[39;00m \u001b[39mdo_item\u001b[39m(\u001b[39mself\u001b[39m, s):\n\u001b[0;32m--> 153\u001b[0m     \u001b[39mtry\u001b[39;00m: \u001b[39mreturn\u001b[39;00m \u001b[39mself\u001b[39m\u001b[39m.\u001b[39mafter_item(\u001b[39mself\u001b[39;49m\u001b[39m.\u001b[39;49mcreate_item(s))\n\u001b[1;32m    154\u001b[0m     \u001b[39mexcept\u001b[39;00m SkipItemException: \u001b[39mreturn\u001b[39;00m \u001b[39mNone\u001b[39;00m\n",
      "File \u001b[0;32m~/Documents/Coding/python/electroreception/venv/lib/python3.8/site-packages/fastai/data/load.py:160\u001b[0m, in \u001b[0;36mDataLoader.create_item\u001b[0;34m(self, s)\u001b[0m\n\u001b[1;32m    159\u001b[0m \u001b[39mdef\u001b[39;00m \u001b[39mcreate_item\u001b[39m(\u001b[39mself\u001b[39m, s):\n\u001b[0;32m--> 160\u001b[0m     \u001b[39mif\u001b[39;00m \u001b[39mself\u001b[39m\u001b[39m.\u001b[39mindexed: \u001b[39mreturn\u001b[39;00m \u001b[39mself\u001b[39;49m\u001b[39m.\u001b[39;49mdataset[s \u001b[39mor\u001b[39;49;00m \u001b[39m0\u001b[39;49m]\n\u001b[1;32m    161\u001b[0m     \u001b[39melif\u001b[39;00m s \u001b[39mis\u001b[39;00m \u001b[39mNone\u001b[39;00m:  \u001b[39mreturn\u001b[39;00m \u001b[39mnext\u001b[39m(\u001b[39mself\u001b[39m\u001b[39m.\u001b[39mit)\n\u001b[1;32m    162\u001b[0m     \u001b[39melse\u001b[39;00m: \u001b[39mraise\u001b[39;00m \u001b[39mIndexError\u001b[39;00m(\u001b[39m\"\u001b[39m\u001b[39mCannot index an iterable dataset numerically - must use `None`.\u001b[39m\u001b[39m\"\u001b[39m)\n",
      "Cell \u001b[0;32mIn[23], line 69\u001b[0m, in \u001b[0;36mCarvanaDataset.__getitem__\u001b[0;34m(self, index)\u001b[0m\n\u001b[1;32m     65\u001b[0m     images[\u001b[39m2\u001b[39m] \u001b[39m=\u001b[39m transformed[\u001b[39m\"\u001b[39m\u001b[39mimage1\u001b[39m\u001b[39m\"\u001b[39m]\n\u001b[1;32m     67\u001b[0m     mask \u001b[39m=\u001b[39m transformed[\u001b[39m\"\u001b[39m\u001b[39mmask\u001b[39m\u001b[39m\"\u001b[39m]\n\u001b[0;32m---> 69\u001b[0m     save_transform(image, mask0, transformed)\n\u001b[1;32m     71\u001b[0m \u001b[39mreturn\u001b[39;00m images, mask\n",
      "Cell \u001b[0;32mIn[23], line 77\u001b[0m, in \u001b[0;36msave_transform\u001b[0;34m(image, mask0, transformed)\u001b[0m\n\u001b[1;32m     74\u001b[0m \u001b[39mdef\u001b[39;00m \u001b[39msave_transform\u001b[39m(image, mask0, transformed):\n\u001b[1;32m     76\u001b[0m     result \u001b[39m=\u001b[39m np\u001b[39m.\u001b[39mzeros([\u001b[39m3\u001b[39m, \u001b[39m250\u001b[39m, \u001b[39m250\u001b[39m])\n\u001b[0;32m---> 77\u001b[0m     result[:, \u001b[39m0\u001b[39;49m:\u001b[39m120\u001b[39;49m, \u001b[39m0\u001b[39;49m:\u001b[39m120\u001b[39;49m] \u001b[39m=\u001b[39m image\n\u001b[1;32m     78\u001b[0m     result[\u001b[39m0\u001b[39m, \u001b[39m0\u001b[39m:\u001b[39m120\u001b[39m, \u001b[39m130\u001b[39m:] \u001b[39m=\u001b[39m np\u001b[39m.\u001b[39marray(transformed[\u001b[39m\"\u001b[39m\u001b[39mimage\u001b[39m\u001b[39m\"\u001b[39m])\u001b[39m*\u001b[39m\u001b[39m255\u001b[39m\n\u001b[1;32m     79\u001b[0m     result[\u001b[39m1\u001b[39m, \u001b[39m0\u001b[39m:\u001b[39m120\u001b[39m, \u001b[39m130\u001b[39m:] \u001b[39m=\u001b[39m np\u001b[39m.\u001b[39marray(transformed[\u001b[39m\"\u001b[39m\u001b[39mimage0\u001b[39m\u001b[39m\"\u001b[39m])\u001b[39m*\u001b[39m\u001b[39m255\u001b[39m\n",
      "\u001b[0;31mValueError\u001b[0m: could not broadcast input array from shape (120,120,3) into shape (3,120,120)"
     ]
    }
   ],
   "source": [
    "LEARNING_RATE = 5e-5\n",
    "main()"
   ]
  },
  {
   "cell_type": "code",
   "execution_count": 9,
   "metadata": {},
   "outputs": [
    {
     "name": "stderr",
     "output_type": "stream",
     "text": [
      "\r\n",
      "  0%|          | 0/112 [00:00<?, ?it/s]"
     ]
    },
    {
     "name": "stdout",
     "output_type": "stream",
     "text": [
      "=> Loading checkpoint\n"
     ]
    },
    {
     "name": "stderr",
     "output_type": "stream",
     "text": [
      "100%|██████████| 112/112 [02:23<00:00,  1.28s/it, loss=0.0104] \n"
     ]
    },
    {
     "name": "stdout",
     "output_type": "stream",
     "text": [
      "=> Saving checkpoint\n"
     ]
    },
    {
     "name": "stderr",
     "output_type": "stream",
     "text": [
      "100%|██████████| 56/56 [00:20<00:00,  2.78it/s]\n"
     ]
    },
    {
     "name": "stdout",
     "output_type": "stream",
     "text": [
      "Accuracy 99.67132568359375%\n",
      "Dice score 0.09293054789304733\n"
     ]
    },
    {
     "name": "stderr",
     "output_type": "stream",
     "text": [
      "100%|██████████| 112/112 [02:23<00:00,  1.28s/it, loss=0.00212]\n"
     ]
    },
    {
     "name": "stdout",
     "output_type": "stream",
     "text": [
      "=> Saving checkpoint\n"
     ]
    },
    {
     "name": "stderr",
     "output_type": "stream",
     "text": [
      "100%|██████████| 56/56 [00:20<00:00,  2.78it/s]\n"
     ]
    },
    {
     "name": "stdout",
     "output_type": "stream",
     "text": [
      "Accuracy 99.685791015625%\n",
      "Dice score 0.12588801980018616\n"
     ]
    },
    {
     "name": "stderr",
     "output_type": "stream",
     "text": [
      "100%|██████████| 112/112 [02:23<00:00,  1.28s/it, loss=0.00666]\n"
     ]
    },
    {
     "name": "stdout",
     "output_type": "stream",
     "text": [
      "=> Saving checkpoint\n"
     ]
    },
    {
     "name": "stderr",
     "output_type": "stream",
     "text": [
      "100%|██████████| 56/56 [00:20<00:00,  2.77it/s]\n"
     ]
    },
    {
     "name": "stdout",
     "output_type": "stream",
     "text": [
      "Accuracy 99.7662353515625%\n",
      "Dice score 0.5328267216682434\n"
     ]
    },
    {
     "name": "stderr",
     "output_type": "stream",
     "text": [
      "100%|██████████| 112/112 [02:23<00:00,  1.28s/it, loss=0.00052]\n"
     ]
    },
    {
     "name": "stdout",
     "output_type": "stream",
     "text": [
      "=> Saving checkpoint\n"
     ]
    },
    {
     "name": "stderr",
     "output_type": "stream",
     "text": [
      "100%|██████████| 56/56 [00:20<00:00,  2.77it/s]\n"
     ]
    },
    {
     "name": "stdout",
     "output_type": "stream",
     "text": [
      "Accuracy 99.78858947753906%\n",
      "Dice score 0.5896043181419373\n"
     ]
    }
   ],
   "source": [
    "LEARNING_RATE = 5e-5\n",
    "main()"
   ]
  },
  {
   "cell_type": "code",
   "execution_count": 10,
   "metadata": {},
   "outputs": [
    {
     "name": "stderr",
     "output_type": "stream",
     "text": [
      "\r\n",
      "  0%|          | 0/112 [00:00<?, ?it/s]"
     ]
    },
    {
     "name": "stdout",
     "output_type": "stream",
     "text": [
      "=> Loading checkpoint\n"
     ]
    },
    {
     "name": "stderr",
     "output_type": "stream",
     "text": [
      "100%|██████████| 112/112 [02:22<00:00,  1.27s/it, loss=0.00219]\n"
     ]
    },
    {
     "name": "stdout",
     "output_type": "stream",
     "text": [
      "=> Saving checkpoint\n"
     ]
    },
    {
     "name": "stderr",
     "output_type": "stream",
     "text": [
      "100%|██████████| 56/56 [00:20<00:00,  2.78it/s]\n"
     ]
    },
    {
     "name": "stdout",
     "output_type": "stream",
     "text": [
      "Accuracy 99.80276489257812%\n",
      "Dice score 0.6420930027961731\n"
     ]
    },
    {
     "name": "stderr",
     "output_type": "stream",
     "text": [
      "100%|██████████| 112/112 [02:22<00:00,  1.27s/it, loss=0.00807]\n"
     ]
    },
    {
     "name": "stdout",
     "output_type": "stream",
     "text": [
      "=> Saving checkpoint\n"
     ]
    },
    {
     "name": "stderr",
     "output_type": "stream",
     "text": [
      "100%|██████████| 56/56 [00:20<00:00,  2.78it/s]\n"
     ]
    },
    {
     "name": "stdout",
     "output_type": "stream",
     "text": [
      "Accuracy 99.80888366699219%\n",
      "Dice score 0.6915411353111267\n"
     ]
    },
    {
     "name": "stderr",
     "output_type": "stream",
     "text": [
      "100%|██████████| 112/112 [02:22<00:00,  1.28s/it, loss=0.00152]\n"
     ]
    },
    {
     "name": "stdout",
     "output_type": "stream",
     "text": [
      "=> Saving checkpoint\n"
     ]
    },
    {
     "name": "stderr",
     "output_type": "stream",
     "text": [
      "100%|██████████| 56/56 [00:20<00:00,  2.78it/s]"
     ]
    },
    {
     "name": "stdout",
     "output_type": "stream",
     "text": [
      "Accuracy 99.81129455566406%\n",
      "Dice score 0.6538491249084473\n"
     ]
    },
    {
     "name": "stderr",
     "output_type": "stream",
     "text": [
      "\n",
      "100%|██████████| 112/112 [02:22<00:00,  1.27s/it, loss=0.0059] \n"
     ]
    },
    {
     "name": "stdout",
     "output_type": "stream",
     "text": [
      "=> Saving checkpoint\n"
     ]
    },
    {
     "name": "stderr",
     "output_type": "stream",
     "text": [
      "100%|██████████| 56/56 [00:20<00:00,  2.78it/s]\n"
     ]
    },
    {
     "name": "stdout",
     "output_type": "stream",
     "text": [
      "Accuracy 99.82037353515625%\n",
      "Dice score 0.7002066969871521\n"
     ]
    }
   ],
   "source": [
    "LEARNING_RATE = 1e-5\n",
    "main()"
   ]
  },
  {
   "cell_type": "code",
   "execution_count": 11,
   "metadata": {},
   "outputs": [
    {
     "name": "stderr",
     "output_type": "stream",
     "text": [
      "\r\n",
      "  0%|          | 0/112 [00:00<?, ?it/s]"
     ]
    },
    {
     "name": "stdout",
     "output_type": "stream",
     "text": [
      "=> Loading checkpoint\n"
     ]
    },
    {
     "name": "stderr",
     "output_type": "stream",
     "text": [
      "100%|██████████| 112/112 [02:22<00:00,  1.27s/it, loss=0.00187]\n"
     ]
    },
    {
     "name": "stdout",
     "output_type": "stream",
     "text": [
      "=> Saving checkpoint\n"
     ]
    },
    {
     "name": "stderr",
     "output_type": "stream",
     "text": [
      "100%|██████████| 56/56 [00:20<00:00,  2.78it/s]\n"
     ]
    },
    {
     "name": "stdout",
     "output_type": "stream",
     "text": [
      "Accuracy 99.8251724243164%\n",
      "Dice score 0.6943625211715698\n"
     ]
    },
    {
     "name": "stderr",
     "output_type": "stream",
     "text": [
      "100%|██████████| 112/112 [02:22<00:00,  1.27s/it, loss=0.00454]\n"
     ]
    },
    {
     "name": "stdout",
     "output_type": "stream",
     "text": [
      "=> Saving checkpoint\n"
     ]
    },
    {
     "name": "stderr",
     "output_type": "stream",
     "text": [
      "100%|██████████| 56/56 [00:20<00:00,  2.77it/s]\n"
     ]
    },
    {
     "name": "stdout",
     "output_type": "stream",
     "text": [
      "Accuracy 99.8243408203125%\n",
      "Dice score 0.6834194660186768\n"
     ]
    },
    {
     "name": "stderr",
     "output_type": "stream",
     "text": [
      "100%|██████████| 112/112 [02:22<00:00,  1.27s/it, loss=0.0039] \n"
     ]
    },
    {
     "name": "stdout",
     "output_type": "stream",
     "text": [
      "=> Saving checkpoint\n"
     ]
    },
    {
     "name": "stderr",
     "output_type": "stream",
     "text": [
      "100%|██████████| 56/56 [00:20<00:00,  2.77it/s]\n"
     ]
    },
    {
     "name": "stdout",
     "output_type": "stream",
     "text": [
      "Accuracy 99.82669067382812%\n",
      "Dice score 0.7175348997116089\n"
     ]
    },
    {
     "name": "stderr",
     "output_type": "stream",
     "text": [
      "100%|██████████| 112/112 [02:22<00:00,  1.28s/it, loss=0.00666]\n"
     ]
    },
    {
     "name": "stdout",
     "output_type": "stream",
     "text": [
      "=> Saving checkpoint\n"
     ]
    },
    {
     "name": "stderr",
     "output_type": "stream",
     "text": [
      "100%|██████████| 56/56 [00:20<00:00,  2.78it/s]\n"
     ]
    },
    {
     "name": "stdout",
     "output_type": "stream",
     "text": [
      "Accuracy 99.825439453125%\n",
      "Dice score 0.6996853947639465\n"
     ]
    }
   ],
   "source": [
    "LEARNING_RATE = 5e-6\n",
    "main()"
   ]
  },
  {
   "cell_type": "code",
   "execution_count": 13,
   "metadata": {},
   "outputs": [
    {
     "name": "stderr",
     "output_type": "stream",
     "text": [
      "\r\n",
      "  0%|          | 0/112 [00:00<?, ?it/s]"
     ]
    },
    {
     "name": "stdout",
     "output_type": "stream",
     "text": [
      "=> Loading checkpoint\n"
     ]
    },
    {
     "name": "stderr",
     "output_type": "stream",
     "text": [
      "100%|██████████| 112/112 [02:22<00:00,  1.27s/it, loss=0.00398]\n"
     ]
    },
    {
     "name": "stdout",
     "output_type": "stream",
     "text": [
      "=> Saving checkpoint\n"
     ]
    },
    {
     "name": "stderr",
     "output_type": "stream",
     "text": [
      "100%|██████████| 56/56 [00:20<00:00,  2.78it/s]\n"
     ]
    },
    {
     "name": "stdout",
     "output_type": "stream",
     "text": [
      "Accuracy 99.82569122314453%\n",
      "Dice score 0.7320536971092224\n"
     ]
    },
    {
     "name": "stderr",
     "output_type": "stream",
     "text": [
      "100%|██████████| 112/112 [02:22<00:00,  1.27s/it, loss=0.000298]\n"
     ]
    },
    {
     "name": "stdout",
     "output_type": "stream",
     "text": [
      "=> Saving checkpoint\n"
     ]
    },
    {
     "name": "stderr",
     "output_type": "stream",
     "text": [
      "100%|██████████| 56/56 [00:20<00:00,  2.77it/s]\n"
     ]
    },
    {
     "name": "stdout",
     "output_type": "stream",
     "text": [
      "Accuracy 99.83374786376953%\n",
      "Dice score 0.7188710570335388\n"
     ]
    },
    {
     "name": "stderr",
     "output_type": "stream",
     "text": [
      "\r\n",
      "  0%|          | 0/112 [00:00<?, ?it/s]"
     ]
    },
    {
     "name": "stdout",
     "output_type": "stream",
     "text": [
      "=> Loading checkpoint\n"
     ]
    },
    {
     "name": "stderr",
     "output_type": "stream",
     "text": [
      "100%|██████████| 112/112 [02:22<00:00,  1.27s/it, loss=0.005]  \n"
     ]
    },
    {
     "name": "stdout",
     "output_type": "stream",
     "text": [
      "=> Saving checkpoint\n"
     ]
    },
    {
     "name": "stderr",
     "output_type": "stream",
     "text": [
      "100%|██████████| 56/56 [00:20<00:00,  2.78it/s]\n"
     ]
    },
    {
     "name": "stdout",
     "output_type": "stream",
     "text": [
      "Accuracy 99.83172607421875%\n",
      "Dice score 0.7115412354469299\n"
     ]
    },
    {
     "name": "stderr",
     "output_type": "stream",
     "text": [
      "100%|██████████| 112/112 [02:22<00:00,  1.27s/it, loss=0.005]  \n"
     ]
    },
    {
     "name": "stdout",
     "output_type": "stream",
     "text": [
      "=> Saving checkpoint\n"
     ]
    },
    {
     "name": "stderr",
     "output_type": "stream",
     "text": [
      "100%|██████████| 56/56 [00:20<00:00,  2.78it/s]\n"
     ]
    },
    {
     "name": "stdout",
     "output_type": "stream",
     "text": [
      "Accuracy 99.83241271972656%\n",
      "Dice score 0.7155706882476807\n"
     ]
    }
   ],
   "source": [
    "LEARNING_RATE = 1e-5\n",
    "main()\n",
    "LEARNING_RATE = 5e-6\n",
    "main()"
   ]
  },
  {
   "cell_type": "code",
   "execution_count": 16,
   "metadata": {},
   "outputs": [
    {
     "name": "stderr",
     "output_type": "stream",
     "text": [
      "\r\n",
      "  0%|          | 0/112 [00:00<?, ?it/s]"
     ]
    },
    {
     "name": "stdout",
     "output_type": "stream",
     "text": [
      "=> Loading checkpoint\n"
     ]
    },
    {
     "name": "stderr",
     "output_type": "stream",
     "text": [
      "100%|██████████| 112/112 [02:22<00:00,  1.27s/it, loss=0.00953]\n"
     ]
    },
    {
     "name": "stdout",
     "output_type": "stream",
     "text": [
      "=> Saving checkpoint\n"
     ]
    },
    {
     "name": "stderr",
     "output_type": "stream",
     "text": [
      "100%|██████████| 56/56 [00:20<00:00,  2.78it/s]\n"
     ]
    },
    {
     "name": "stdout",
     "output_type": "stream",
     "text": [
      "Accuracy 99.83970642089844%\n",
      "Dice score 0.7425869107246399\n"
     ]
    },
    {
     "name": "stderr",
     "output_type": "stream",
     "text": [
      "100%|██████████| 112/112 [02:22<00:00,  1.27s/it, loss=0.00263]\n"
     ]
    },
    {
     "name": "stdout",
     "output_type": "stream",
     "text": [
      "=> Saving checkpoint\n"
     ]
    },
    {
     "name": "stderr",
     "output_type": "stream",
     "text": [
      "100%|██████████| 56/56 [00:20<00:00,  2.76it/s]\n"
     ]
    },
    {
     "name": "stdout",
     "output_type": "stream",
     "text": [
      "Accuracy 99.84320068359375%\n",
      "Dice score 0.7368522882461548\n"
     ]
    },
    {
     "name": "stderr",
     "output_type": "stream",
     "text": [
      "100%|██████████| 112/112 [02:22<00:00,  1.27s/it, loss=0.00136]\n"
     ]
    },
    {
     "name": "stdout",
     "output_type": "stream",
     "text": [
      "=> Saving checkpoint\n"
     ]
    },
    {
     "name": "stderr",
     "output_type": "stream",
     "text": [
      "100%|██████████| 56/56 [00:20<00:00,  2.75it/s]\n"
     ]
    },
    {
     "name": "stdout",
     "output_type": "stream",
     "text": [
      "Accuracy 99.84391021728516%\n",
      "Dice score 0.7402313947677612\n"
     ]
    },
    {
     "name": "stderr",
     "output_type": "stream",
     "text": [
      "100%|██████████| 112/112 [02:22<00:00,  1.27s/it, loss=0.000884]\n"
     ]
    },
    {
     "name": "stdout",
     "output_type": "stream",
     "text": [
      "=> Saving checkpoint\n"
     ]
    },
    {
     "name": "stderr",
     "output_type": "stream",
     "text": [
      "100%|██████████| 56/56 [00:20<00:00,  2.77it/s]\n"
     ]
    },
    {
     "name": "stdout",
     "output_type": "stream",
     "text": [
      "Accuracy 99.84194946289062%\n",
      "Dice score 0.7370697259902954\n"
     ]
    }
   ],
   "source": [
    "LEARNING_RATE = 5e-6\n",
    "main()"
   ]
  },
  {
   "cell_type": "code",
   "execution_count": 5,
   "metadata": {},
   "outputs": [],
   "source": [
    "resnet = timm.create_model(\"resnet34\", pretrained=False)\n",
    "# for name, module in resnet.named_modules():\n",
    "#     print(name)\n",
    "# print(resnet.conv1)\n",
    "resnet.conv1 = nn.Conv2d(10, 64, kernel_size=(\n",
    "    7, 7), stride=(2, 2), padding=(3, 3), bias=False)\n",
    "# print(resnet.conv1)\n",
    "\n",
    "m = resnet\n",
    "m = nn.Sequential(*list(m.children())[:-2])\n",
    "model = DynamicUnet(m, 1, (512, 512), norm_type=None).to(DEVICE)"
   ]
  },
  {
   "cell_type": "code",
   "execution_count": 6,
   "metadata": {},
   "outputs": [
    {
     "name": "stdout",
     "output_type": "stream",
     "text": [
      "----------------------------------------------------------------\n",
      "        Layer (type)               Output Shape         Param #\n",
      "================================================================\n",
      "            Conv2d-1         [-1, 64, 256, 256]          31,360\n",
      "       BatchNorm2d-2         [-1, 64, 256, 256]             128\n",
      "              ReLU-3         [-1, 64, 256, 256]               0\n",
      "         MaxPool2d-4         [-1, 64, 128, 128]               0\n",
      "            Conv2d-5         [-1, 64, 128, 128]          36,864\n",
      "       BatchNorm2d-6         [-1, 64, 128, 128]             128\n",
      "          Identity-7         [-1, 64, 128, 128]               0\n",
      "              ReLU-8         [-1, 64, 128, 128]               0\n",
      "          Identity-9         [-1, 64, 128, 128]               0\n",
      "           Conv2d-10         [-1, 64, 128, 128]          36,864\n",
      "      BatchNorm2d-11         [-1, 64, 128, 128]             128\n",
      "             ReLU-12         [-1, 64, 128, 128]               0\n",
      "       BasicBlock-13         [-1, 64, 128, 128]               0\n",
      "           Conv2d-14         [-1, 64, 128, 128]          36,864\n",
      "      BatchNorm2d-15         [-1, 64, 128, 128]             128\n",
      "         Identity-16         [-1, 64, 128, 128]               0\n",
      "             ReLU-17         [-1, 64, 128, 128]               0\n",
      "         Identity-18         [-1, 64, 128, 128]               0\n",
      "           Conv2d-19         [-1, 64, 128, 128]          36,864\n",
      "      BatchNorm2d-20         [-1, 64, 128, 128]             128\n",
      "             ReLU-21         [-1, 64, 128, 128]               0\n",
      "       BasicBlock-22         [-1, 64, 128, 128]               0\n",
      "           Conv2d-23         [-1, 64, 128, 128]          36,864\n",
      "      BatchNorm2d-24         [-1, 64, 128, 128]             128\n",
      "         Identity-25         [-1, 64, 128, 128]               0\n",
      "             ReLU-26         [-1, 64, 128, 128]               0\n",
      "         Identity-27         [-1, 64, 128, 128]               0\n",
      "           Conv2d-28         [-1, 64, 128, 128]          36,864\n",
      "      BatchNorm2d-29         [-1, 64, 128, 128]             128\n",
      "             ReLU-30         [-1, 64, 128, 128]               0\n",
      "       BasicBlock-31         [-1, 64, 128, 128]               0\n",
      "           Conv2d-32          [-1, 128, 64, 64]          73,728\n",
      "      BatchNorm2d-33          [-1, 128, 64, 64]             256\n",
      "         Identity-34          [-1, 128, 64, 64]               0\n",
      "             ReLU-35          [-1, 128, 64, 64]               0\n",
      "         Identity-36          [-1, 128, 64, 64]               0\n",
      "           Conv2d-37          [-1, 128, 64, 64]         147,456\n",
      "      BatchNorm2d-38          [-1, 128, 64, 64]             256\n",
      "           Conv2d-39          [-1, 128, 64, 64]           8,192\n",
      "      BatchNorm2d-40          [-1, 128, 64, 64]             256\n",
      "             ReLU-41          [-1, 128, 64, 64]               0\n",
      "       BasicBlock-42          [-1, 128, 64, 64]               0\n",
      "           Conv2d-43          [-1, 128, 64, 64]         147,456\n",
      "      BatchNorm2d-44          [-1, 128, 64, 64]             256\n",
      "         Identity-45          [-1, 128, 64, 64]               0\n",
      "             ReLU-46          [-1, 128, 64, 64]               0\n",
      "         Identity-47          [-1, 128, 64, 64]               0\n",
      "           Conv2d-48          [-1, 128, 64, 64]         147,456\n",
      "      BatchNorm2d-49          [-1, 128, 64, 64]             256\n",
      "             ReLU-50          [-1, 128, 64, 64]               0\n",
      "       BasicBlock-51          [-1, 128, 64, 64]               0\n",
      "           Conv2d-52          [-1, 128, 64, 64]         147,456\n",
      "      BatchNorm2d-53          [-1, 128, 64, 64]             256\n",
      "         Identity-54          [-1, 128, 64, 64]               0\n",
      "             ReLU-55          [-1, 128, 64, 64]               0\n",
      "         Identity-56          [-1, 128, 64, 64]               0\n",
      "           Conv2d-57          [-1, 128, 64, 64]         147,456\n",
      "      BatchNorm2d-58          [-1, 128, 64, 64]             256\n",
      "             ReLU-59          [-1, 128, 64, 64]               0\n",
      "       BasicBlock-60          [-1, 128, 64, 64]               0\n",
      "           Conv2d-61          [-1, 128, 64, 64]         147,456\n",
      "      BatchNorm2d-62          [-1, 128, 64, 64]             256\n",
      "         Identity-63          [-1, 128, 64, 64]               0\n",
      "             ReLU-64          [-1, 128, 64, 64]               0\n",
      "         Identity-65          [-1, 128, 64, 64]               0\n",
      "           Conv2d-66          [-1, 128, 64, 64]         147,456\n",
      "      BatchNorm2d-67          [-1, 128, 64, 64]             256\n",
      "             ReLU-68          [-1, 128, 64, 64]               0\n",
      "       BasicBlock-69          [-1, 128, 64, 64]               0\n",
      "           Conv2d-70          [-1, 256, 32, 32]         294,912\n",
      "      BatchNorm2d-71          [-1, 256, 32, 32]             512\n",
      "         Identity-72          [-1, 256, 32, 32]               0\n",
      "             ReLU-73          [-1, 256, 32, 32]               0\n",
      "         Identity-74          [-1, 256, 32, 32]               0\n",
      "           Conv2d-75          [-1, 256, 32, 32]         589,824\n",
      "      BatchNorm2d-76          [-1, 256, 32, 32]             512\n",
      "           Conv2d-77          [-1, 256, 32, 32]          32,768\n",
      "      BatchNorm2d-78          [-1, 256, 32, 32]             512\n",
      "             ReLU-79          [-1, 256, 32, 32]               0\n",
      "       BasicBlock-80          [-1, 256, 32, 32]               0\n",
      "           Conv2d-81          [-1, 256, 32, 32]         589,824\n",
      "      BatchNorm2d-82          [-1, 256, 32, 32]             512\n",
      "         Identity-83          [-1, 256, 32, 32]               0\n",
      "             ReLU-84          [-1, 256, 32, 32]               0\n",
      "         Identity-85          [-1, 256, 32, 32]               0\n",
      "           Conv2d-86          [-1, 256, 32, 32]         589,824\n",
      "      BatchNorm2d-87          [-1, 256, 32, 32]             512\n",
      "             ReLU-88          [-1, 256, 32, 32]               0\n",
      "       BasicBlock-89          [-1, 256, 32, 32]               0\n",
      "           Conv2d-90          [-1, 256, 32, 32]         589,824\n",
      "      BatchNorm2d-91          [-1, 256, 32, 32]             512\n",
      "         Identity-92          [-1, 256, 32, 32]               0\n",
      "             ReLU-93          [-1, 256, 32, 32]               0\n",
      "         Identity-94          [-1, 256, 32, 32]               0\n",
      "           Conv2d-95          [-1, 256, 32, 32]         589,824\n",
      "      BatchNorm2d-96          [-1, 256, 32, 32]             512\n",
      "             ReLU-97          [-1, 256, 32, 32]               0\n",
      "       BasicBlock-98          [-1, 256, 32, 32]               0\n",
      "           Conv2d-99          [-1, 256, 32, 32]         589,824\n",
      "     BatchNorm2d-100          [-1, 256, 32, 32]             512\n",
      "        Identity-101          [-1, 256, 32, 32]               0\n",
      "            ReLU-102          [-1, 256, 32, 32]               0\n",
      "        Identity-103          [-1, 256, 32, 32]               0\n",
      "          Conv2d-104          [-1, 256, 32, 32]         589,824\n",
      "     BatchNorm2d-105          [-1, 256, 32, 32]             512\n",
      "            ReLU-106          [-1, 256, 32, 32]               0\n",
      "      BasicBlock-107          [-1, 256, 32, 32]               0\n",
      "          Conv2d-108          [-1, 256, 32, 32]         589,824\n",
      "     BatchNorm2d-109          [-1, 256, 32, 32]             512\n",
      "        Identity-110          [-1, 256, 32, 32]               0\n",
      "            ReLU-111          [-1, 256, 32, 32]               0\n",
      "        Identity-112          [-1, 256, 32, 32]               0\n",
      "          Conv2d-113          [-1, 256, 32, 32]         589,824\n",
      "     BatchNorm2d-114          [-1, 256, 32, 32]             512\n",
      "            ReLU-115          [-1, 256, 32, 32]               0\n",
      "      BasicBlock-116          [-1, 256, 32, 32]               0\n",
      "          Conv2d-117          [-1, 256, 32, 32]         589,824\n",
      "     BatchNorm2d-118          [-1, 256, 32, 32]             512\n",
      "        Identity-119          [-1, 256, 32, 32]               0\n",
      "            ReLU-120          [-1, 256, 32, 32]               0\n",
      "        Identity-121          [-1, 256, 32, 32]               0\n",
      "          Conv2d-122          [-1, 256, 32, 32]         589,824\n",
      "     BatchNorm2d-123          [-1, 256, 32, 32]             512\n",
      "            ReLU-124          [-1, 256, 32, 32]               0\n",
      "      BasicBlock-125          [-1, 256, 32, 32]               0\n",
      "          Conv2d-126          [-1, 512, 16, 16]       1,179,648\n",
      "     BatchNorm2d-127          [-1, 512, 16, 16]           1,024\n",
      "        Identity-128          [-1, 512, 16, 16]               0\n",
      "            ReLU-129          [-1, 512, 16, 16]               0\n",
      "        Identity-130          [-1, 512, 16, 16]               0\n",
      "          Conv2d-131          [-1, 512, 16, 16]       2,359,296\n",
      "     BatchNorm2d-132          [-1, 512, 16, 16]           1,024\n",
      "          Conv2d-133          [-1, 512, 16, 16]         131,072\n",
      "     BatchNorm2d-134          [-1, 512, 16, 16]           1,024\n",
      "            ReLU-135          [-1, 512, 16, 16]               0\n",
      "      BasicBlock-136          [-1, 512, 16, 16]               0\n",
      "          Conv2d-137          [-1, 512, 16, 16]       2,359,296\n",
      "     BatchNorm2d-138          [-1, 512, 16, 16]           1,024\n",
      "        Identity-139          [-1, 512, 16, 16]               0\n",
      "            ReLU-140          [-1, 512, 16, 16]               0\n",
      "        Identity-141          [-1, 512, 16, 16]               0\n",
      "          Conv2d-142          [-1, 512, 16, 16]       2,359,296\n",
      "     BatchNorm2d-143          [-1, 512, 16, 16]           1,024\n",
      "            ReLU-144          [-1, 512, 16, 16]               0\n",
      "      BasicBlock-145          [-1, 512, 16, 16]               0\n",
      "          Conv2d-146          [-1, 512, 16, 16]       2,359,296\n",
      "     BatchNorm2d-147          [-1, 512, 16, 16]           1,024\n",
      "        Identity-148          [-1, 512, 16, 16]               0\n",
      "            ReLU-149          [-1, 512, 16, 16]               0\n",
      "        Identity-150          [-1, 512, 16, 16]               0\n",
      "          Conv2d-151          [-1, 512, 16, 16]       2,359,296\n",
      "     BatchNorm2d-152          [-1, 512, 16, 16]           1,024\n",
      "            ReLU-153          [-1, 512, 16, 16]               0\n",
      "      BasicBlock-154          [-1, 512, 16, 16]               0\n",
      "     BatchNorm2d-155          [-1, 512, 16, 16]           1,024\n",
      "            ReLU-156          [-1, 512, 16, 16]               0\n",
      "          Conv2d-157         [-1, 1024, 16, 16]       4,719,616\n",
      "            ReLU-158         [-1, 1024, 16, 16]               0\n",
      "          Conv2d-159          [-1, 512, 16, 16]       4,719,104\n",
      "            ReLU-160          [-1, 512, 16, 16]               0\n",
      "          Conv2d-161         [-1, 1024, 16, 16]         525,312\n",
      "            ReLU-162         [-1, 1024, 16, 16]               0\n",
      "    PixelShuffle-163          [-1, 256, 32, 32]               0\n",
      "     BatchNorm2d-164          [-1, 256, 32, 32]             512\n",
      "            ReLU-165          [-1, 512, 32, 32]               0\n",
      "          Conv2d-166          [-1, 512, 32, 32]       2,359,808\n",
      "            ReLU-167          [-1, 512, 32, 32]               0\n",
      "          Conv2d-168          [-1, 512, 32, 32]       2,359,808\n",
      "            ReLU-169          [-1, 512, 32, 32]               0\n",
      "       UnetBlock-170          [-1, 512, 32, 32]               0\n",
      "          Conv2d-171         [-1, 1024, 32, 32]         525,312\n",
      "            ReLU-172         [-1, 1024, 32, 32]               0\n",
      "    PixelShuffle-173          [-1, 256, 64, 64]               0\n",
      "     BatchNorm2d-174          [-1, 128, 64, 64]             256\n",
      "            ReLU-175          [-1, 384, 64, 64]               0\n",
      "          Conv2d-176          [-1, 384, 64, 64]       1,327,488\n",
      "            ReLU-177          [-1, 384, 64, 64]               0\n",
      "          Conv2d-178          [-1, 384, 64, 64]       1,327,488\n",
      "            ReLU-179          [-1, 384, 64, 64]               0\n",
      "       UnetBlock-180          [-1, 384, 64, 64]               0\n",
      "          Conv2d-181          [-1, 768, 64, 64]         295,680\n",
      "            ReLU-182          [-1, 768, 64, 64]               0\n",
      "    PixelShuffle-183        [-1, 192, 128, 128]               0\n",
      "     BatchNorm2d-184         [-1, 64, 128, 128]             128\n",
      "            ReLU-185        [-1, 256, 128, 128]               0\n",
      "          Conv2d-186        [-1, 256, 128, 128]         590,080\n",
      "            ReLU-187        [-1, 256, 128, 128]               0\n",
      "          Conv2d-188        [-1, 256, 128, 128]         590,080\n",
      "            ReLU-189        [-1, 256, 128, 128]               0\n",
      "       UnetBlock-190        [-1, 256, 128, 128]               0\n",
      "          Conv2d-191        [-1, 512, 128, 128]         131,584\n",
      "            ReLU-192        [-1, 512, 128, 128]               0\n",
      "    PixelShuffle-193        [-1, 128, 256, 256]               0\n",
      "     BatchNorm2d-194         [-1, 64, 256, 256]             128\n",
      "            ReLU-195        [-1, 192, 256, 256]               0\n",
      "          Conv2d-196         [-1, 96, 256, 256]         165,984\n",
      "            ReLU-197         [-1, 96, 256, 256]               0\n",
      "          Conv2d-198         [-1, 96, 256, 256]          83,040\n",
      "            ReLU-199         [-1, 96, 256, 256]               0\n",
      "       UnetBlock-200         [-1, 96, 256, 256]               0\n",
      "          Conv2d-201        [-1, 384, 256, 256]          37,248\n",
      "            ReLU-202        [-1, 384, 256, 256]               0\n",
      "    PixelShuffle-203         [-1, 96, 512, 512]               0\n",
      "    ResizeToOrig-204         [-1, 96, 512, 512]               0\n",
      "      MergeLayer-205        [-1, 106, 512, 512]               0\n",
      "          Conv2d-206        [-1, 106, 512, 512]         101,230\n",
      "            ReLU-207        [-1, 106, 512, 512]               0\n",
      "          Conv2d-208        [-1, 106, 512, 512]         101,230\n",
      "            ReLU-209        [-1, 106, 512, 512]               0\n",
      "        ResBlock-210        [-1, 106, 512, 512]               0\n",
      "          Conv2d-211          [-1, 1, 512, 512]             107\n",
      "    ToTensorBase-212          [-1, 1, 512, 512]               0\n",
      "================================================================\n",
      "Total params: 41,268,871\n",
      "Trainable params: 41,268,871\n",
      "Non-trainable params: 0\n",
      "----------------------------------------------------------------\n",
      "Input size (MB): 10.00\n",
      "Forward/backward pass size (MB): 3629.00\n",
      "Params size (MB): 157.43\n",
      "Estimated Total Size (MB): 3796.43\n",
      "----------------------------------------------------------------\n"
     ]
    }
   ],
   "source": [
    "from torchsummary import summary\n",
    "summary(model, (10, 512, 512))"
   ]
  },
  {
   "cell_type": "code",
   "execution_count": 7,
   "metadata": {},
   "outputs": [
    {
     "data": {
      "text/plain": [
       "41268871"
      ]
     },
     "execution_count": 7,
     "metadata": {},
     "output_type": "execute_result"
    }
   ],
   "source": [
    "def count_parameters(model):\n",
    "    return sum(p.numel() for p in model.parameters() if p.requires_grad)\n",
    "\n",
    "count_parameters(model)"
   ]
  },
  {
   "cell_type": "code",
   "execution_count": null,
   "metadata": {},
   "outputs": [],
   "source": []
  }
 ],
 "metadata": {
  "kernelspec": {
   "display_name": "Python 3.8.1 ('venv': venv)",
   "language": "python",
   "name": "python3"
  },
  "language_info": {
   "codemirror_mode": {
    "name": "ipython",
    "version": 3
   },
   "file_extension": ".py",
   "mimetype": "text/x-python",
   "name": "python",
   "nbconvert_exporter": "python",
   "pygments_lexer": "ipython3",
   "version": "3.9.18"
  },
  "vscode": {
   "interpreter": {
    "hash": "873685d248aaef772f3eef94a68acc56655f246555fd1372d712884370fa2f6e"
   }
  }
 },
 "nbformat": 4,
 "nbformat_minor": 4
}
